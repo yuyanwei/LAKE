{
 "cells": [
  {
   "cell_type": "code",
   "execution_count": 1,
   "metadata": {},
   "outputs": [],
   "source": [
    "import numpy as np \n",
    "import pandas as pd\n",
    "from sklearn.neighbors.kde import KernelDensity\n",
    "from sklearn.metrics import precision_recall_fscore_support as prf, accuracy_score\n",
    "import torch\n",
    "from torch.nn import functional as F\n",
    "from torch.utils.data import Dataset\n",
    "from torch.utils.data import DataLoader\n",
    "import torch.nn as nn\n",
    "from sklearn.manifold import TSNE\n",
    "from sklearn.datasets import load_iris\n",
    "from sklearn.decomposition import PCA\n",
    "import matplotlib.pyplot as plt"
   ]
  },
  {
   "cell_type": "code",
   "execution_count": 2,
   "metadata": {},
   "outputs": [],
   "source": [
    "class ThyroidLoader(object):\n",
    "    def __init__(self, data_path, N_train, mode=\"train\"):\n",
    "        self.mode=mode\n",
    "        data = np.load(data_path)\n",
    "\n",
    "        labels = data[:,-1]\n",
    "        features = data[:,:-1]\n",
    "        N, D = features.shape\n",
    "        \n",
    "        normal_data = features[labels==1]\n",
    "        normal_labels = labels[labels==1]\n",
    "\n",
    "        N_normal = normal_data.shape[0]\n",
    "\n",
    "        attack_data = features[labels==0]\n",
    "        attack_labels = labels[labels==0]\n",
    "\n",
    "        N_attack = attack_data.shape[0]\n",
    "\n",
    "        randIdx = np.arange(N_attack)\n",
    "        np.random.shuffle(randIdx)\n",
    "        self.N_train = N_train\n",
    "        self.train = attack_data[randIdx[:self.N_train]]\n",
    "        self.train_labels = attack_labels[randIdx[:self.N_train]]\n",
    "        \n",
    "        self.test = attack_data[randIdx[self.N_train:]]\n",
    "        self.test_labels = attack_labels[randIdx[self.N_train:]]\n",
    "        \n",
    "        self.test = np.concatenate((self.test, normal_data),axis=0)\n",
    "        self.test_labels = np.concatenate((self.test_labels, normal_labels),axis=0)\n",
    "\n",
    "\n",
    "    def __len__(self):\n",
    "        \"\"\"\n",
    "        Number of images in the object dataset.\n",
    "        \"\"\"\n",
    "        if self.mode == \"train\":\n",
    "            return self.train.shape[0]\n",
    "        else:\n",
    "            return self.test.shape[0]\n",
    "\n",
    "\n",
    "    def __getitem__(self, index):\n",
    "        if self.mode == \"train\":\n",
    "            return np.float32(self.train[index]), np.float32(self.train_labels[index])\n",
    "        else:\n",
    "            return np.float32(self.test[index]), np.float32(self.test_labels[index])  "
   ]
  },
  {
   "cell_type": "code",
   "execution_count": 3,
   "metadata": {},
   "outputs": [],
   "source": [
    "class LVAE(nn.Module):\n",
    "    def __init__(self):\n",
    "        super(LVAE,self).__init__()\n",
    "        self.enc_1 = nn.Linear(36,20)\n",
    "        self.enc = nn.Linear(20,11)\n",
    "        \n",
    "        self.act = nn.Tanh()\n",
    "        self.act_s = nn.Sigmoid()\n",
    "        self.mu = nn.Linear(11,10)\n",
    "        self.log_var = nn.Linear(11,10)\n",
    "        \n",
    "        self.z = nn.Linear(10,11)\n",
    "        self.z_1 = nn.Linear(11,20)\n",
    "        self.dec = nn.Linear(20,36)\n",
    "    def reparameterize(self, mu, log_var):\n",
    "        std = torch.exp(log_var/2)\n",
    "        eps = torch.randn_like(std)\n",
    "        return mu + eps * std\n",
    "    def forward(self,x):\n",
    "        enc_1 = self.enc_1(x)\n",
    "        enc = self.act(enc_1)\n",
    "        enc = self.enc(enc)\n",
    "        enc = self.act(enc)\n",
    "        \n",
    "        mu = self.mu(enc)\n",
    "        log_var = self.log_var(enc)\n",
    "        o = self.reparameterize(mu,log_var)\n",
    "        z = self.z(o)\n",
    "        z_1 = self.act(z)\n",
    "        z_1 = self.z_1(z_1)\n",
    "        dec = self.act(z_1)\n",
    "        dec = self.dec(dec)\n",
    "        dec = self.act_s(dec)\n",
    "        return enc_1, enc, mu, log_var, o, z, z_1, dec"
   ]
  },
  {
   "cell_type": "code",
   "execution_count": 4,
   "metadata": {},
   "outputs": [],
   "source": [
    "data_path = 'Thyroid.npy'\n",
    "\n",
    "batch_size = 200\n",
    "learn_rate = 0.0001\n",
    "All_train = 3679"
   ]
  },
  {
   "cell_type": "code",
   "execution_count": 5,
   "metadata": {},
   "outputs": [],
   "source": [
    "def get_loader(data_path, batch_size, N_train, mode='train'):\n",
    "    \"\"\"Build and return data loader.\"\"\"\n",
    "    \n",
    "    dataset = ThyroidLoader(data_path, N_train, mode)\n",
    "\n",
    "    shuffle = False\n",
    "    if mode == 'train':\n",
    "        shuffle = True\n",
    "\n",
    "    data_loader = DataLoader(dataset=dataset,\n",
    "                             batch_size=batch_size,\n",
    "                             shuffle=shuffle)\n",
    "    return data_loader"
   ]
  },
  {
   "cell_type": "code",
   "execution_count": 6,
   "metadata": {},
   "outputs": [],
   "source": [
    "def relative_euclidean_distance(a, b):\n",
    "    return (a-b).norm(2, dim=1) / a.norm(2, dim=1)"
   ]
  },
  {
   "cell_type": "markdown",
   "metadata": {},
   "source": [
    "# LVAE效果"
   ]
  },
  {
   "cell_type": "code",
   "execution_count": 7,
   "metadata": {},
   "outputs": [],
   "source": [
    "def loss_function(recon_x, x, mu, logvar, enc, z,  enc_1, z_1):\n",
    "    #BCE = F.binary_cross_entropy(recon_x, x, reduction='sum')\n",
    "    criterion_elementwise_mean = nn.MSELoss(reduction='sum')\n",
    "    BCE_x = criterion_elementwise_mean(recon_x,x)\n",
    "    BCE_z = criterion_elementwise_mean(enc,z)\n",
    "    BCE_z_1 = criterion_elementwise_mean(enc_1,z_1)\n",
    "\n",
    "    # see Appendix B from VAE paper:\n",
    "    # Kingma and Welling. Auto-Encoding Variational Bayes. ICLR, 2014\n",
    "    # https://arxiv.org/abs/1312.6114\n",
    "    # 0.5 * sum(1 + log(sigma^2) - mu^2 - sigma^2)\n",
    "    KLD = -0.5 * torch.sum(1 + logvar - mu.pow(2) - logvar.exp())\n",
    "\n",
    "    return BCE_x + KLD "
   ]
  },
  {
   "cell_type": "code",
   "execution_count": 8,
   "metadata": {},
   "outputs": [],
   "source": [
    "Ratio = 0.1\n",
    "iter_per_epoch = 200\n",
    "result = []\n",
    "diff_quantity_result= []\n",
    "N_train = int(All_train*Ratio*(8))\n",
    "lvae = LVAE()\n",
    "optimizer = torch.optim.Adam(lvae.parameters(),lr=learn_rate)\n",
    "data_loader_train = get_loader(data_path, batch_size, N_train, mode='train')\n",
    "# for i in range(iter_per_epoch):\n",
    "#     for j ,(input_data, labels)  in enumerate(data_loader_train):\n",
    "#         enc_1, enc, mu, log_var, o, z,  z_1, dec = lvae(input_data)\n",
    "#         optimizer.zero_grad()\n",
    "#         loss = loss_function(dec, input_data, mu, log_var, enc, z, enc_1, z_1)\n",
    "#         loss.backward()\n",
    "#         optimizer.step()"
   ]
  },
  {
   "cell_type": "code",
   "execution_count": 34,
   "metadata": {},
   "outputs": [
    {
     "name": "stdout",
     "output_type": "stream",
     "text": [
      "Using matplotlib backend: Qt5Agg\n"
     ]
    }
   ],
   "source": [
    "from mpl_toolkits.mplot3d import Axes3D  \n",
    "import matplotlib.pyplot as plt\n",
    "%matplotlib auto\n",
    "#%matplotlib inline\n",
    "batch_size = 1000\n",
    "All_train = 3679\n",
    "N_train = int(All_train*Ratio*(8))\n",
    "data_loader_test = get_loader(data_path, batch_size, N_train, mode='test')\n",
    "test_enc = []\n",
    "test_labels = []\n",
    "\n",
    "    \n",
    "    \n",
    "for i ,(input_data, labels)  in enumerate(data_loader_test):\n",
    "    enc_1, enc, mu, log_var, o, z,  z_1, dec = lvae(input_data)\n",
    "    rec_euclidean = relative_euclidean_distance(input_data, dec)\n",
    "    rec_cosine = F.cosine_similarity(input_data, dec, dim=1)\n",
    "    enc = torch.cat([enc, rec_euclidean.unsqueeze(-1)], dim=1)\n",
    "    enc = enc.detach().numpy()\n",
    "#     enc = enc_1.detach().numpy()\n",
    "    test_enc.append(enc)\n",
    "    test_labels.append(labels.numpy())\n",
    "\n",
    "    \n",
    "test_labels = np.concatenate(test_labels,axis=0)\n",
    "tsne = TSNE(n_components=2, learning_rate=50).fit_transform(np.squeeze(test_enc))\n",
    "\n",
    "plt.figure(figsize=(8, 6))\n",
    "plt.subplot()\n",
    "plt.scatter(tsne[:, 0], tsne[:, 1], c=test_labels)\n",
    "#plt.colorbar()#使用这一句就可以分辨出，颜色对应的类了！神奇啊。\n",
    "plt.show()    \n"
   ]
  },
  {
   "cell_type": "code",
   "execution_count": 29,
   "metadata": {},
   "outputs": [
    {
     "name": "stdout",
     "output_type": "stream",
     "text": [
      "Using matplotlib backend: Qt5Agg\n"
     ]
    }
   ],
   "source": [
    "from mpl_toolkits.mplot3d import Axes3D  \n",
    "import matplotlib.pyplot as plt\n",
    "%matplotlib auto\n",
    "\n",
    "batch_size = 1000\n",
    "All_train = 3679\n",
    "N_train = int(All_train*Ratio*(8))\n",
    "data_loader_test = get_loader(data_path, batch_size, N_train, mode='test')\n",
    "test_enc = []\n",
    "test_labels = []\n",
    "\n",
    "    \n",
    "    \n",
    "for i ,(input_data, labels)  in enumerate(data_loader_test):\n",
    "    enc_1, enc, mu, log_var, o, z,  z_1, dec = lvae(input_data)\n",
    "#     rec_euclidean = relative_euclidean_distance(input_data, dec)\n",
    "#     rec_cosine = F.cosine_similarity(input_data, dec, dim=1)\n",
    "#     enc = torch.cat([enc, rec_euclidean.unsqueeze(-1)], dim=1)\n",
    "#     enc = enc.detach().numpy()\n",
    "    enc = enc_1.detach().numpy()\n",
    "    test_enc.append(enc)\n",
    "    test_labels.append(labels.numpy())\n",
    "\n",
    "    \n",
    "test_labels = np.concatenate(test_labels,axis=0)\n",
    "embedded = TSNE(n_components=3, learning_rate=100).fit_transform(np.squeeze(test_enc))\n",
    "fig = plt.figure()\n",
    "ax = Axes3D(fig)\n",
    "ax.scatter(embedded[:, 0], embedded[:, 1], embedded[:, 2], c=test_labels)\n",
    "\n",
    "\n",
    "plt.axis()\n",
    "plt.show()\n",
    "\n",
    "\n"
   ]
  },
  {
   "cell_type": "markdown",
   "metadata": {},
   "source": [
    "# VAE效果"
   ]
  },
  {
   "cell_type": "code",
   "execution_count": 8,
   "metadata": {},
   "outputs": [],
   "source": [
    "class VAE(nn.Module):\n",
    "    def __init__(self):\n",
    "        super(VAE,self).__init__()\n",
    "        \n",
    "        self.encoder = nn.Sequential(\n",
    "\n",
    "            nn.Linear(36,20),\n",
    "            nn.Tanh(),\n",
    "            nn.Linear(20,11),\n",
    "            nn.Tanh(),\n",
    "\n",
    "           \n",
    "        )\n",
    "        self.mu = nn.Linear(11,10)\n",
    "        self.log_var = nn.Linear(11,10)\n",
    "        \n",
    "        self.decoder = nn.Sequential(\n",
    "            nn.Linear(10,11),\n",
    "            nn.Tanh(),\n",
    "            nn.Linear(11,20),\n",
    "            nn.Tanh(),\n",
    "            nn.Linear(20,36),\n",
    "            nn.Sigmoid()\n",
    "        )\n",
    "    def reparameterize(self, mu, log_var):\n",
    "        std = torch.exp(log_var/2)\n",
    "        eps = torch.randn_like(std)\n",
    "        return mu + eps * std\n",
    "    def forward(self,x):\n",
    "        enc = self.encoder(x)\n",
    "        \n",
    "        \n",
    "        mu = self.mu(enc)\n",
    "        log_var = self.log_var(enc)\n",
    "        z = self.reparameterize(mu,log_var)\n",
    "        dec = self.decoder(z)\n",
    "        return enc, dec, mu, log_var, z"
   ]
  },
  {
   "cell_type": "code",
   "execution_count": 9,
   "metadata": {},
   "outputs": [],
   "source": [
    "def loss_function(recon_x, x, mu, logvar):\n",
    "    #BCE = F.binary_cross_entropy(recon_x, x, reduction='sum')\n",
    "    criterion_elementwise_mean = nn.MSELoss(reduction='sum')\n",
    "    BCE = criterion_elementwise_mean(recon_x,x)\n",
    "    # see Appendix B from VAE paper:\n",
    "    # Kingma and Welling. Auto-Encoding Variational Bayes. ICLR, 2014\n",
    "    # https://arxiv.org/abs/1312.6114\n",
    "    # 0.5 * sum(1 + log(sigma^2) - mu^2 - sigma^2)\n",
    "    KLD = -0.5 * torch.sum(1 + logvar - mu.pow(2) - logvar.exp())\n",
    "\n",
    "    return BCE + KLD"
   ]
  },
  {
   "cell_type": "code",
   "execution_count": 10,
   "metadata": {},
   "outputs": [],
   "source": [
    "Ratio = 0.1\n",
    "iter_per_epoch = 200\n",
    "result = []\n",
    "diff_quantity_result= []\n",
    "N_train = int(All_train*Ratio*(8))\n",
    "vae = VAE()\n",
    "optimizer = torch.optim.Adam(vae.parameters(),lr=learn_rate)\n",
    "data_loader_train = get_loader(data_path, batch_size, N_train, mode='train')\n",
    "for i in range(iter_per_epoch):\n",
    "    for j ,(input_data, labels)  in enumerate(data_loader_train):\n",
    "        enc, dec, mu, log_var, z = vae(input_data)\n",
    "        optimizer.zero_grad()\n",
    "        loss = loss_function(dec, input_data, mu, log_var)\n",
    "        loss.backward()\n",
    "        optimizer.step()"
   ]
  },
  {
   "cell_type": "code",
   "execution_count": 24,
   "metadata": {},
   "outputs": [
    {
     "name": "stdout",
     "output_type": "stream",
     "text": [
      "Using matplotlib backend: Qt5Agg\n"
     ]
    }
   ],
   "source": [
    "from mpl_toolkits.mplot3d import Axes3D  \n",
    "import matplotlib.pyplot as plt\n",
    "%matplotlib auto\n",
    "\n",
    "batch_size = 1000\n",
    "All_train = 3679\n",
    "N_train = int(All_train*Ratio*(8))\n",
    "data_loader_test = get_loader(data_path, batch_size, N_train, mode='test')\n",
    "test_enc = []\n",
    "test_labels = []\n",
    "\n",
    "\n",
    "      \n",
    "for i ,(input_data, labels)  in enumerate(data_loader_test):\n",
    "    enc, dec, mu, log_var, z = vae(input_data)\n",
    "    enc = enc.detach().numpy()\n",
    "    \n",
    "    test_enc.append(enc)\n",
    "    test_labels.append(labels.numpy())\n",
    "\n",
    "    \n",
    "test_labels = np.concatenate(test_labels,axis=0)\n",
    "tsne = TSNE(n_components=2, learning_rate=30).fit_transform(np.squeeze(test_enc))\n",
    "plt.figure(figsize=(8, 6))\n",
    "plt.subplot()\n",
    "plt.scatter(tsne[:, 0], tsne[:, 1], c=test_labels)\n",
    "#plt.colorbar()#使用这一句就可以分辨出，颜色对应的类了！神奇啊。\n",
    "plt.show()"
   ]
  },
  {
   "cell_type": "code",
   "execution_count": 30,
   "metadata": {},
   "outputs": [
    {
     "name": "stdout",
     "output_type": "stream",
     "text": [
      "Using matplotlib backend: Qt5Agg\n"
     ]
    }
   ],
   "source": [
    "from mpl_toolkits.mplot3d import Axes3D  \n",
    "import matplotlib.pyplot as plt\n",
    "%matplotlib auto\n",
    "\n",
    "batch_size = 1000\n",
    "All_train = 3679\n",
    "N_train = int(All_train*Ratio*(8))\n",
    "data_loader_test = get_loader(data_path, batch_size, N_train, mode='test')\n",
    "test_enc = []\n",
    "test_labels = []\n",
    "\n",
    "\n",
    "      \n",
    "for i ,(input_data, labels)  in enumerate(data_loader_test):\n",
    "    enc, dec, mu, log_var, z = vae(input_data)\n",
    "    rec_euclidean = relative_euclidean_distance(input_data, dec)\n",
    "    rec_cosine = F.cosine_similarity(input_data, dec, dim=1)     \n",
    "    enc = torch.cat([enc, rec_euclidean.unsqueeze(-1)], dim=1)\n",
    "    enc = enc.detach().numpy()\n",
    "    \n",
    "    test_enc.append(enc)\n",
    "    test_labels.append(labels.numpy())\n",
    "\n",
    "    \n",
    "test_labels = np.concatenate(test_labels,axis=0)\n",
    "tsne = TSNE(n_components=2, learning_rate=30).fit_transform(np.squeeze(test_enc))\n",
    "plt.figure(figsize=(8, 6))\n",
    "plt.subplot()\n",
    "plt.scatter(tsne[:, 0], tsne[:, 1], c=test_labels)\n",
    "#plt.colorbar()#使用这一句就可以分辨出，颜色对应的类了！神奇啊。\n",
    "plt.show()"
   ]
  },
  {
   "cell_type": "code",
   "execution_count": null,
   "metadata": {},
   "outputs": [],
   "source": []
  }
 ],
 "metadata": {
  "kernelspec": {
   "display_name": "Python 3",
   "language": "python",
   "name": "python3"
  },
  "language_info": {
   "codemirror_mode": {
    "name": "ipython",
    "version": 3
   },
   "file_extension": ".py",
   "mimetype": "text/x-python",
   "name": "python",
   "nbconvert_exporter": "python",
   "pygments_lexer": "ipython3",
   "version": "3.7.3"
  }
 },
 "nbformat": 4,
 "nbformat_minor": 2
}
